{
 "cells": [
  {
   "cell_type": "markdown",
   "metadata": {},
   "source": [
    "# The Battle of Neighborhoods\n",
    "### Finding the best neighborhood for opening an Arts & Crafts store in London using Data Science"
   ]
  },
  {
   "cell_type": "markdown",
   "metadata": {},
   "source": [
    "This project aims to use Data Science concepts learned in the IBM Data Science Professional Course to solve a business problem.<br>\n",
    "In particular, we will use Foursquare location data and  clustering of venue information to determine what might be the ‘best’ neighbourhood in London to open an Arts & Crafts store.<br>\n",
    "In this project we will proceed in a step by step manner, from problem definition to a conclusion that can be leveraged by the business stakeholders to make their decisions."
   ]
  },
  {
   "cell_type": "markdown",
   "metadata": {},
   "source": [
    "## Introduction: Business Problem"
   ]
  },
  {
   "cell_type": "markdown",
   "metadata": {},
   "source": [
    "The city of London is famous for many things – its magnificent ancient buildings, its nightlife,  its multiculturalism, its role in international trade, its growing foodie scene, its being the setting of many films and novels, and so on.\n",
    "\n",
    "As one of the world’s creative capitals it is not  surprising that London:\n",
    "* is home to more than 1.000 art galleries, many of which are rated amongst the best in the world;\n",
    "* has also been the home of and inspiration for countless artists and creative movements;\n",
    "* plays hosts to multiple world-renowned art schools, with students that travel across the globe to join their varied and inspiring courses.\n",
    "\n",
    "The objective of this project is to determine which might be the ‘best’ neighbourhood in London for an entrepreneur to open an Arts & Crafts store for selling artist materials and where to organize creative workshops. \n"
   ]
  },
  {
   "cell_type": "markdown",
   "metadata": {},
   "source": [
    "## Data overview"
   ]
  },
  {
   "cell_type": "markdown",
   "metadata": {},
   "source": [
    "The data we will use to conduct our analisys comes from multiple sources:\n",
    "* a list of boroughs and neighbourhoods in London (via Wikipedia. See link https://en.wikipedia.org/wiki/List_of_areas_of_London), with the geographical location of each neighbourhood;\n",
    "* venue data pertaining to Arts & Crafts store, but also Art Schools and Art Museums (via Foursquare). The venue data will help us find which neighbourhood is best suitable to open our store.\n"
   ]
  },
  {
   "cell_type": "code",
   "execution_count": null,
   "metadata": {},
   "outputs": [],
   "source": []
  }
 ],
 "metadata": {
  "kernelspec": {
   "display_name": "Python 3",
   "language": "python",
   "name": "python3"
  },
  "language_info": {
   "codemirror_mode": {
    "name": "ipython",
    "version": 3
   },
   "file_extension": ".py",
   "mimetype": "text/x-python",
   "name": "python",
   "nbconvert_exporter": "python",
   "pygments_lexer": "ipython3",
   "version": "3.8.3"
  }
 },
 "nbformat": 4,
 "nbformat_minor": 4
}
